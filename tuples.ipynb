{
 "cells": [
  {
   "cell_type": "code",
   "execution_count": 2,
   "metadata": {},
   "outputs": [],
   "source": [
    "Daily_Routine = ('wake up', 'shower', 'brush my teeth', 'get dressed', 'commute to work', 'stare at my computer screen', 'eat lunch', 'stare at my computer screen some more', 'commute home', 'got to the gym', 'eat dinner', 'go to sleep')"
   ]
  },
  {
   "cell_type": "code",
   "execution_count": 4,
   "metadata": {},
   "outputs": [
    {
     "name": "stdout",
     "output_type": "stream",
     "text": [
      "First I wake up.\n"
     ]
    }
   ],
   "source": [
    "print('First I {}.'.format(Daily_Routine[0]))"
   ]
  },
  {
   "cell_type": "code",
   "execution_count": 26,
   "metadata": {},
   "outputs": [
    {
     "name": "stdout",
     "output_type": "stream",
     "text": [
      "Then I shower.\n",
      "Then I brush my teeth.\n",
      "Then I get dressed.\n",
      "Then I commute to work.\n",
      "Then I stare at my computer screen.\n",
      "Then I eat lunch.\n",
      "Then I stare at my computer screen some more.\n",
      "Then I commute home.\n",
      "Then I got to the gym.\n",
      "Then I eat dinner.\n"
     ]
    }
   ],
   "source": [
    "for x in Daily_Routine[1:0-1]:\n",
    "    print ('Then I {}.'.format(x))"
   ]
  },
  {
   "cell_type": "code",
   "execution_count": 28,
   "metadata": {},
   "outputs": [
    {
     "name": "stdout",
     "output_type": "stream",
     "text": [
      "Finally, I go to sleep.\n"
     ]
    }
   ],
   "source": [
    "print('Finally, I {}.'.format(Daily_Routine[-1]))"
   ]
  },
  {
   "cell_type": "code",
   "execution_count": null,
   "metadata": {},
   "outputs": [],
   "source": []
  }
 ],
 "metadata": {
  "kernelspec": {
   "display_name": "Python 3",
   "language": "python",
   "name": "python3"
  },
  "language_info": {
   "codemirror_mode": {
    "name": "ipython",
    "version": 3
   },
   "file_extension": ".py",
   "mimetype": "text/x-python",
   "name": "python",
   "nbconvert_exporter": "python",
   "pygments_lexer": "ipython3",
   "version": "3.6.5"
  }
 },
 "nbformat": 4,
 "nbformat_minor": 2
}
